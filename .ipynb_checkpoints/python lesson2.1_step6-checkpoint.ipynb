{
 "cells": [
  {
   "cell_type": "code",
   "execution_count": 1,
   "metadata": {},
   "outputs": [
    {
     "name": "stderr",
     "output_type": "stream",
     "text": [
      "<ipython-input-1-1197476736f0>:11: DeprecationWarning: find_element_by_* commands are deprecated. Please use find_element() instead\n",
      "  people_radio = browser.find_element_by_id(\"robotCheckbox\")\n",
      "<ipython-input-1-1197476736f0>:17: DeprecationWarning: find_element_by_* commands are deprecated. Please use find_element() instead\n",
      "  people_checked = browser.find_element_by_id(\"peopleRule\")\n",
      "<ipython-input-1-1197476736f0>:23: DeprecationWarning: find_element_by_* commands are deprecated. Please use find_element() instead\n",
      "  robot_checked = browser.find_element_by_id(\"robotsRule\")\n",
      "<ipython-input-1-1197476736f0>:29: DeprecationWarning: find_element_by_* commands are deprecated. Please use find_element() instead\n",
      "  submit_checked = browser.find_element_by_css_selector(\".btn.btn-default\")\n"
     ]
    },
    {
     "name": "stdout",
     "output_type": "stream",
     "text": [
      "velue of I'm the robot: true\n",
      "velue of People rule: true\n",
      "velue of Robot rule: None\n",
      "velue of button Submit: None\n",
      "velue of button Submit after TEN seconds: true\n"
     ]
    }
   ],
   "source": [
    "from selenium import webdriver\n",
    "import time\n",
    "\n",
    "link = \"http://suninjuly.github.io/math.html\"\n",
    "\n",
    "try:\n",
    "    browser = webdriver.Chrome()\n",
    "    browser.get(link)\n",
    "\n",
    "#Проверяем зачение атрибута \"required\" у \"I'm the robot\".\n",
    "    people_radio = browser.find_element_by_id(\"robotCheckbox\")\n",
    "    the_robot = people_radio.get_attribute(\"required\")\n",
    "    print(\"velue of I'm the robot:\", the_robot)\n",
    "    assert the_robot is not None, \"the_robot is not selected by default\"\n",
    "\n",
    "#Проверяем значение атрибута \"checked\" у \"People rule\".\n",
    "    people_checked = browser.find_element_by_id(\"peopleRule\")\n",
    "    people_rule = people_checked.get_attribute(\"checked\")\n",
    "    print(\"velue of People rule:\", people_rule)\n",
    "    assert people_rule is not None, \"people_rule is not selected by default\"\n",
    "\n",
    "#Проверяем значение \"checked\" у \"Robots rule\".\n",
    "    robot_checked = browser.find_element_by_id(\"robotsRule\")\n",
    "    robot_rule = robot_checked.get_attribute(\"checked\")\n",
    "    print(\"velue of Robot rule:\", robot_rule)\n",
    "    assert robot_rule is None, \"robot_rule is not selected by default\"\n",
    "\n",
    "#Проверяем значение \"disabled\" у \"Submit\".\n",
    "    submit_checked = browser.find_element_by_css_selector(\".btn.btn-default\")\n",
    "    submit_disabled = submit_checked.get_attribute(\"disabled\")\n",
    "    print(\"velue of button Submit:\", submit_disabled)\n",
    "    assert submit_disabled is None\n",
    "\n",
    "#Проверяем значение \"disabled\" у \"Submit\" спустя - 10 секунд.\n",
    "    time.sleep(10)\n",
    "    submit_disabled = submit_checked.get_attribute(\"disabled\")\n",
    "    print(\"velue of button Submit after TEN seconds:\", submit_disabled)\n",
    "    assert submit_disabled is not None\n",
    "\n",
    "finally:\n",
    "    time.sleep(1)\n",
    "    browser.quit()"
   ]
  },
  {
   "cell_type": "code",
   "execution_count": null,
   "metadata": {},
   "outputs": [],
   "source": []
  }
 ],
 "metadata": {
  "kernelspec": {
   "display_name": "Python 3",
   "language": "python",
   "name": "python3"
  },
  "language_info": {
   "codemirror_mode": {
    "name": "ipython",
    "version": 3
   },
   "file_extension": ".py",
   "mimetype": "text/x-python",
   "name": "python",
   "nbconvert_exporter": "python",
   "pygments_lexer": "ipython3",
   "version": "3.8.5"
  }
 },
 "nbformat": 4,
 "nbformat_minor": 4
}
