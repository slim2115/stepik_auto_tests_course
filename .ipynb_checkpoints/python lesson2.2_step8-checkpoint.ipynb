{
 "cells": [
  {
   "cell_type": "code",
   "execution_count": 3,
   "metadata": {},
   "outputs": [
    {
     "name": "stderr",
     "output_type": "stream",
     "text": [
      "<ipython-input-3-2f2267d5babd>:12: DeprecationWarning: find_element_by_* commands are deprecated. Please use find_element() instead\n",
      "  input1 = browser.find_element_by_tag_name(\"input\")\n",
      "<ipython-input-3-2f2267d5babd>:14: DeprecationWarning: find_element_by_* commands are deprecated. Please use find_element() instead\n",
      "  input2 = browser.find_element_by_name(\"lastname\")\n",
      "<ipython-input-3-2f2267d5babd>:16: DeprecationWarning: find_element_by_* commands are deprecated. Please use find_element() instead\n",
      "  input3 = browser.find_element_by_xpath('//input[@placeholder=\"Enter email\"]')\n",
      "<ipython-input-3-2f2267d5babd>:32: DeprecationWarning: find_element_by_* commands are deprecated. Please use find_element() instead\n",
      "  button = browser.find_element_by_css_selector(\"button.btn\")\n"
     ]
    }
   ],
   "source": [
    "from selenium import webdriver\n",
    "from selenium.webdriver.common.by import By\n",
    "import os\n",
    "import time\n",
    "\n",
    "try: \n",
    "\n",
    "    link = \"http://suninjuly.github.io/file_input.html\"\n",
    "    browser = webdriver.Chrome()\n",
    "    browser.get(link)\n",
    "    \n",
    "    input1 = browser.find_element_by_tag_name(\"input\")\n",
    "    input1.send_keys(\"Ivan\")\n",
    "    input2 = browser.find_element_by_name(\"lastname\")\n",
    "    input2.send_keys(\"Petrov\")\n",
    "    input3 = browser.find_element_by_xpath('//input[@placeholder=\"Enter email\"]')\n",
    "    input3.send_keys(\"I@I.ru\")\n",
    "    \n",
    "    \n",
    "    # указывая директорию,где лежит файлу.txt\n",
    "    # в конце должен быть /\n",
    "    current_dir = os.path.abspath(os.path.dirname(\"__file__\"))\n",
    "    # имя файла, который будем загружать на сайт\n",
    "    file_name = \"file.txt\"\n",
    "    # получаем путь к file.txt\n",
    "    file_path = os.path.join(current_dir, \"file.txt\")\n",
    "    #Загрузить файл. Файл должен иметь расширение .txt и может быть пустым\n",
    "    element = browser.find_element(By.CSS_SELECTOR, \"[type='file']\")\n",
    "    # отправляем файл\n",
    "    element.send_keys(file_path)\n",
    "    \n",
    "    button = browser.find_element_by_css_selector(\"button.btn\")\n",
    "    button.click()\n",
    "    \n",
    "finally:\n",
    "    \n",
    "    # успеваем скопировать код за 10 секунд\n",
    "    time.sleep(10)\n",
    "    # закрываем браузер после всех манипуляций\n",
    "    browser.quit()\n",
    "\n",
    "    # не забываем оставить пустую строку в конце файла\n"
   ]
  },
  {
   "cell_type": "code",
   "execution_count": null,
   "metadata": {},
   "outputs": [],
   "source": []
  }
 ],
 "metadata": {
  "kernelspec": {
   "display_name": "Python 3",
   "language": "python",
   "name": "python3"
  },
  "language_info": {
   "codemirror_mode": {
    "name": "ipython",
    "version": 3
   },
   "file_extension": ".py",
   "mimetype": "text/x-python",
   "name": "python",
   "nbconvert_exporter": "python",
   "pygments_lexer": "ipython3",
   "version": "3.8.5"
  }
 },
 "nbformat": 4,
 "nbformat_minor": 4
}
