{
 "cells": [
  {
   "cell_type": "code",
   "execution_count": 25,
   "metadata": {},
   "outputs": [
    {
     "name": "stderr",
     "output_type": "stream",
     "text": [
      "<ipython-input-25-7780f0457a35>:16: DeprecationWarning: find_element_by_* commands are deprecated. Please use find_element() instead\n",
      "  x = browser.find_element_by_id(\"num1\").text\n",
      "<ipython-input-25-7780f0457a35>:17: DeprecationWarning: find_element_by_* commands are deprecated. Please use find_element() instead\n",
      "  y = browser.find_element_by_id(\"num2\").text\n",
      "<ipython-input-25-7780f0457a35>:22: DeprecationWarning: find_element_by_* commands are deprecated. Please use find_element() instead\n",
      "  browser.find_element_by_tag_name(\"select\").click()\n",
      "<ipython-input-25-7780f0457a35>:23: DeprecationWarning: find_element_by_* commands are deprecated. Please use find_element() instead\n",
      "  browser.find_element_by_xpath('//option[@selected]').click()\n",
      "<ipython-input-25-7780f0457a35>:26: DeprecationWarning: find_element_by_* commands are deprecated. Please use find_element() instead\n",
      "  select = Select(browser.find_element_by_tag_name(\"select\"))\n",
      "<ipython-input-25-7780f0457a35>:30: DeprecationWarning: find_element_by_* commands are deprecated. Please use find_element() instead\n",
      "  button = browser.find_element_by_css_selector(\"button.btn\")\n"
     ]
    }
   ],
   "source": [
    "from selenium import webdriver\n",
    "import time\n",
    "import math\n",
    "import select\n",
    "\n",
    "def sum(x, y):\n",
    "    sum_el = str(int(x) + int(y))\n",
    "    return sum_el\n",
    "    \n",
    "try: \n",
    "    link = \"https://suninjuly.github.io/selects2.html\"\n",
    "    browser = webdriver.Chrome()\n",
    "    browser.get(link)\n",
    "    \n",
    "    # Посчитать сумму заданных чисел\n",
    "    x = browser.find_element_by_id(\"num1\").text\n",
    "    y = browser.find_element_by_id(\"num2\").text\n",
    "    sum_el = str(int(x) + int(y))\n",
    "    #browser.find_element_by_tag_name(\"span:nth-child(3)\")\n",
    "    \n",
    "    # Выбрать в выпадающем списке значение равное расчитанной сумме\n",
    "    browser.find_element_by_tag_name(\"select\").click()\n",
    "    browser.find_element_by_xpath('//option[@selected]').click()\n",
    "        \n",
    "    from selenium.webdriver.support.ui import Select\n",
    "    select = Select(browser.find_element_by_tag_name(\"select\"))\n",
    "    select.select_by_value(sum_el) # ищем элемент\n",
    "    \n",
    "    # Нажать на кнопку \"Submit\"\n",
    "    button = browser.find_element_by_css_selector(\"button.btn\")\n",
    "    button.click()\n",
    "    \n",
    "finally:\n",
    "    # успеваем скопировать код за 10 секунд\n",
    "    time.sleep(10)\n",
    "    # закрываем браузер после всех манипуляций\n",
    "    browser.quit()\n",
    "\n",
    "    # не забываем оставить пустую строку в конце файла\n"
   ]
  },
  {
   "cell_type": "code",
   "execution_count": null,
   "metadata": {},
   "outputs": [],
   "source": []
  }
 ],
 "metadata": {
  "kernelspec": {
   "display_name": "Python 3",
   "language": "python",
   "name": "python3"
  },
  "language_info": {
   "codemirror_mode": {
    "name": "ipython",
    "version": 3
   },
   "file_extension": ".py",
   "mimetype": "text/x-python",
   "name": "python",
   "nbconvert_exporter": "python",
   "pygments_lexer": "ipython3",
   "version": "3.8.5"
  }
 },
 "nbformat": 4,
 "nbformat_minor": 4
}
