{
 "cells": [
  {
   "cell_type": "code",
   "execution_count": 2,
   "metadata": {},
   "outputs": [],
   "source": [
    "from selenium import webdriver\n",
    "from selenium.webdriver.common.by import By\n",
    "from selenium.webdriver.support.ui import WebDriverWait\n",
    "from selenium.webdriver.support import expected_conditions as EC\n",
    "import time\n",
    "import math\n",
    "\n",
    "def calc(x):\n",
    "    return str(math.log(abs(12*math.sin(int(x)))))    \n",
    "\n",
    "try:\n",
    "\n",
    "    browser = webdriver.Chrome()\n",
    "    # Открыть страницу http://suninjuly.github.io/explicit_wait2.html\n",
    "    browser.get(\"https://suninjuly.github.io/explicit_wait2.html\")   \n",
    "          \n",
    "    # Дождаться, когда цена дома уменьшится до $100 (ожидание нужно установить не меньше 12 секунд)    \n",
    "    # Чтобы определить момент, когда цена аренды уменьшится до $100, используем метод text_to_be_present_in_element из библиотеки expected_conditions.\n",
    "    button = WebDriverWait(browser, 12).until(    \n",
    "    EC.text_to_be_present_in_element((By.ID, \"price\"), \"$100\")\n",
    "        )       \n",
    "    # Нажать на кнопку \"Book\"\n",
    "    button = browser.find_element(By.ID, \"book\")\n",
    "    button.click()   \n",
    "   \n",
    "    # Решить уже известную математическую задачу\n",
    "    x_element = browser.find_element(By.ID,\"input_value\")\n",
    "    x = x_element.text\n",
    "    y = calc(x)\n",
    "    \n",
    "    # Ввести ответ в текстовое поле\n",
    "    input1 = browser.find_element(By.ID,\"answer\")\n",
    "    input1.send_keys(y)    \n",
    "    \n",
    "    # Нажать на кнопку \"Submit\"\n",
    "    button = browser.find_element(By.ID, \"solve\")\n",
    "    button.click()   \n",
    "    \n",
    "finally:\n",
    "    \n",
    "    # успеваем скопировать код за 10 секунд\n",
    "    time.sleep(10)\n",
    "    # закрываем браузер после всех манипуляций\n",
    "    browser.quit()\n",
    "    \n",
    "    # не забываем оставить пустую строку в конце файла\n",
    "     "
   ]
  },
  {
   "cell_type": "code",
   "execution_count": null,
   "metadata": {},
   "outputs": [],
   "source": []
  }
 ],
 "metadata": {
  "kernelspec": {
   "display_name": "Python 3",
   "language": "python",
   "name": "python3"
  },
  "language_info": {
   "codemirror_mode": {
    "name": "ipython",
    "version": 3
   },
   "file_extension": ".py",
   "mimetype": "text/x-python",
   "name": "python",
   "nbconvert_exporter": "python",
   "pygments_lexer": "ipython3",
   "version": "3.8.5"
  }
 },
 "nbformat": 4,
 "nbformat_minor": 4
}
