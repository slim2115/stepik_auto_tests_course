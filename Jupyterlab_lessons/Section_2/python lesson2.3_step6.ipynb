{
 "cells": [
  {
   "cell_type": "code",
   "execution_count": null,
   "metadata": {},
   "outputs": [
    {
     "name": "stderr",
     "output_type": "stream",
     "text": [
      "<ipython-input-1-899503f8387c>:15: DeprecationWarning: find_element_by_* commands are deprecated. Please use find_element() instead\n",
      "  button = browser.find_element_by_tag_name(\"button\")\n",
      "<ipython-input-1-899503f8387c>:22: DeprecationWarning: find_element_by_* commands are deprecated. Please use find_element() instead\n",
      "  x_element = browser.find_element_by_id(\"input_value\")\n",
      "<ipython-input-1-899503f8387c>:26: DeprecationWarning: find_element_by_* commands are deprecated. Please use find_element() instead\n",
      "  input1 = browser.find_element_by_id(\"answer\")\n",
      "<ipython-input-1-899503f8387c>:29: DeprecationWarning: find_element_by_* commands are deprecated. Please use find_element() instead\n",
      "  button = browser.find_element_by_css_selector(\"button.btn\")\n"
     ]
    }
   ],
   "source": [
    "from selenium import webdriver \n",
    "from selenium.webdriver.common.by import By\n",
    "import time\n",
    "import math\n",
    "\n",
    "def calc(x):\n",
    "    return math.log(abs(12*math.sin(int(x))))    \n",
    "\n",
    "try: \n",
    "    # Открыть страницу http://suninjuly.github.io/alert_accept.html\n",
    "    link = \"http://suninjuly.github.io/redirect_accept.html\"\n",
    "    browser = webdriver.Chrome()\n",
    "    browser.get(link)\n",
    "    # Нажать на кнопку \n",
    "    button = browser.find_element_by_tag_name(\"button\")\n",
    "    button.click()\n",
    "    #Переключиться на новую вкладку\n",
    "    new_window = browser.window_handles[1]\n",
    "    browser.switch_to.window(new_window)\n",
    "    # На новой вкладке решить капчу для роботов, чтобы получить число с ответом\n",
    "    # Посчитать математическую функцию от x\n",
    "    x_element = browser.find_element_by_id(\"input_value\")\n",
    "    x = x_element.text\n",
    "    y = calc(x)\n",
    "    # Ввести ответ в текстовое поле\n",
    "    input1 = browser.find_element_by_id(\"answer\")\n",
    "    input1.send_keys(y)    \n",
    "    # Нажать на кнопку \n",
    "    button = browser.find_element_by_css_selector(\"button.btn\")\n",
    "    button.click()\n",
    "    \n",
    "finally:\n",
    "    \n",
    "    # успеваем скопировать код за 10 секунд\n",
    "    time.sleep(10)\n",
    "    # закрываем браузер после всех манипуляций\n",
    "    browser.quit()\n",
    "\n",
    "    # не забываем оставить пустую строку в конце файла\n",
    "    "
   ]
  },
  {
   "cell_type": "code",
   "execution_count": null,
   "metadata": {},
   "outputs": [],
   "source": []
  }
 ],
 "metadata": {
  "kernelspec": {
   "display_name": "Python 3",
   "language": "python",
   "name": "python3"
  },
  "language_info": {
   "codemirror_mode": {
    "name": "ipython",
    "version": 3
   },
   "file_extension": ".py",
   "mimetype": "text/x-python",
   "name": "python",
   "nbconvert_exporter": "python",
   "pygments_lexer": "ipython3",
   "version": "3.8.5"
  }
 },
 "nbformat": 4,
 "nbformat_minor": 4
}
