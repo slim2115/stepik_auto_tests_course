{
 "cells": [
  {
   "cell_type": "code",
   "execution_count": 1,
   "metadata": {},
   "outputs": [],
   "source": [
    "from selenium import webdriver\n",
    "from selenium.webdriver.common.by import By\n",
    "import os\n",
    "import time\n",
    "\n",
    "try: \n",
    "\n",
    "    link = \"http://suninjuly.github.io/file_input.html\"\n",
    "    browser = webdriver.Chrome()\n",
    "    browser.get(link)\n",
    "    \n",
    "    # указывая директорию,где лежит файлу.txt\n",
    "    # в конце должен быть /\n",
    "    current_dir = os.path.abspath(os.path.dirname(\"__file__\"))\n",
    "    # имя файла, который будем загружать на сайт\n",
    "    file_name = \"file.txt\"\n",
    "    # получаем путь к file.txt\n",
    "    file_path = os.path.join(current_dir, \"file.txt\")\n",
    "    #Загрузить файл. Файл должен иметь расширение .txt и может быть пустым\n",
    "    element = browser.find_element(By.CSS_SELECTOR, \"[type='file']\")\n",
    "    # отправляем файл\n",
    "    element.send_keys(file_path)\n",
    "    \n",
    "finally:\n",
    "    \n",
    "    # успеваем скопировать код за 10 секунд\n",
    "    time.sleep(10)\n",
    "    # закрываем браузер после всех манипуляций\n",
    "    browser.quit()\n",
    "\n",
    "    # не забываем оставить пустую строку в конце файла\n"
   ]
  },
  {
   "cell_type": "code",
   "execution_count": null,
   "metadata": {},
   "outputs": [],
   "source": []
  }
 ],
 "metadata": {
  "kernelspec": {
   "display_name": "Python 3",
   "language": "python",
   "name": "python3"
  },
  "language_info": {
   "codemirror_mode": {
    "name": "ipython",
    "version": 3
   },
   "file_extension": ".py",
   "mimetype": "text/x-python",
   "name": "python",
   "nbconvert_exporter": "python",
   "pygments_lexer": "ipython3",
   "version": "3.8.5"
  }
 },
 "nbformat": 4,
 "nbformat_minor": 4
}
