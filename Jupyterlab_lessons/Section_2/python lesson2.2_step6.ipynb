{
 "cells": [
  {
   "cell_type": "code",
   "execution_count": 1,
   "metadata": {},
   "outputs": [
    {
     "name": "stderr",
     "output_type": "stream",
     "text": [
      "<ipython-input-1-576383deff65>:14: DeprecationWarning: find_element_by_* commands are deprecated. Please use find_element() instead\n",
      "  x_element = browser.find_element_by_id(\"input_value\")\n",
      "<ipython-input-1-576383deff65>:19: DeprecationWarning: find_element_by_* commands are deprecated. Please use find_element() instead\n",
      "  button = browser.find_element_by_tag_name(\"button\")\n",
      "<ipython-input-1-576383deff65>:23: DeprecationWarning: find_element_by_* commands are deprecated. Please use find_element() instead\n",
      "  input1 = browser.find_element_by_id(\"answer\")\n",
      "<ipython-input-1-576383deff65>:27: DeprecationWarning: find_element_by_* commands are deprecated. Please use find_element() instead\n",
      "  option1 = browser.find_element_by_id(\"robotCheckbox\")\n",
      "<ipython-input-1-576383deff65>:31: DeprecationWarning: find_element_by_* commands are deprecated. Please use find_element() instead\n",
      "  option2 = browser.find_element_by_id(\"robotsRule\")\n",
      "<ipython-input-1-576383deff65>:35: DeprecationWarning: find_element_by_* commands are deprecated. Please use find_element() instead\n",
      "  button = browser.find_element_by_css_selector(\"button.btn\")\n"
     ]
    }
   ],
   "source": [
    "from selenium import webdriver\n",
    "import time\n",
    "import math\n",
    "\n",
    "def calc(x):\n",
    "    return str(math.log(abs(12*math.sin(int(x)))))    \n",
    "\n",
    "try: \n",
    "    link = \"http://SunInJuly.github.io/execute_script.html\"\n",
    "    browser = webdriver.Chrome()\n",
    "    browser.get(link)\n",
    "    \n",
    "    # Посчитать математическую функцию от x\n",
    "    x_element = browser.find_element_by_id(\"input_value\")\n",
    "    x = x_element.text\n",
    "    y = calc(x)      \n",
    "    \n",
    "    # Проскроллить страницу вниз\n",
    "    button = browser.find_element_by_tag_name(\"button\")\n",
    "    browser.execute_script(\"window.scrollBy(0, 150);\")\n",
    "    \n",
    "    # Ввести ответ в текстовое поле\n",
    "    input1 = browser.find_element_by_id(\"answer\")\n",
    "    input1.send_keys(y)\n",
    "            \n",
    "    # Отметить checkbox \"I'm the robot\"\n",
    "    option1 = browser.find_element_by_id(\"robotCheckbox\")\n",
    "    option1.click()\n",
    "    \n",
    "    # Выбрать radiobutton \"Robots rule!\"\n",
    "    option2 = browser.find_element_by_id(\"robotsRule\")\n",
    "    option2.click()\n",
    "        \n",
    "    # Нажать на кнопку Submit\n",
    "    button = browser.find_element_by_css_selector(\"button.btn\")\n",
    "    button.click()\n",
    "    \n",
    "finally:\n",
    "    # успеваем скопировать код за 10 секунд\n",
    "    time.sleep(10)\n",
    "    # закрываем браузер после всех манипуляций\n",
    "    browser.quit()\n",
    "\n",
    "    # не забываем оставить пустую строку в конце файла\n"
   ]
  },
  {
   "cell_type": "code",
   "execution_count": null,
   "metadata": {},
   "outputs": [],
   "source": []
  }
 ],
 "metadata": {
  "kernelspec": {
   "display_name": "Python 3",
   "language": "python",
   "name": "python3"
  },
  "language_info": {
   "codemirror_mode": {
    "name": "ipython",
    "version": 3
   },
   "file_extension": ".py",
   "mimetype": "text/x-python",
   "name": "python",
   "nbconvert_exporter": "python",
   "pygments_lexer": "ipython3",
   "version": "3.8.5"
  }
 },
 "nbformat": 4,
 "nbformat_minor": 4
}
